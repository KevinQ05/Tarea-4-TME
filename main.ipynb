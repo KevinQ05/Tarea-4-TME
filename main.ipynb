{
 "cells": [
  {
   "cell_type": "markdown",
   "metadata": {},
   "source": [
    "Minimizar $\\boldsymbol{C}^T \\boldsymbol x$ sujeto a\n",
    "$$ Ax = b $$\n",
    "$$ x \\geq 0$$"
   ]
  },
  {
   "cell_type": "code",
   "execution_count": 215,
   "metadata": {},
   "outputs": [],
   "source": [
    "import numpy as np\n",
    "np.seterr(divide=\"ignore\")\n",
    "\n",
    "def switch_matrix_columns(A: np.ndarray, i1, i2) -> np.ndarray:\n",
    "    A_new = A.copy()\n",
    "    A_new[:, [i1, i2]] = A_new[:, [i2, i1]]\n",
    "\n",
    "    return A_new\n",
    "\n",
    "def simplex_iteracion(c: np.ndarray, A: np.ndarray, b: np.ndarray) -> dict:\n",
    "    m, n = A.shape\n",
    "    \n",
    "    # Separar matriz A en variables básicas y no básicas\n",
    "    A_b = A.copy()[:,0:m]\n",
    "    A_n = A.copy()[:, m:n]\n",
    "    \n",
    "    #Costos c básicos y no básicos\n",
    "    c_b = c.copy()[0, 0:m]\n",
    "    c_n = c.copy()[0, m:n]\n",
    "    \n",
    "    try:\n",
    "        A_b_inv = np.linalg.inv(A_b)\n",
    "    except Exception as _:\n",
    "        print('singular matrix')\n",
    "        i1 = np.random.randint(0, n)\n",
    "        i2 = np.random.randint(0, n)\n",
    "        A_new = switch_matrix_columns(A, i1, i2)\n",
    "        return simplex_iteracion(c, A_new, b)\n",
    "    \n",
    "    # solución inicial z0 = z(x0)\n",
    "    x0 = A_b_inv@b\n",
    "    if any(x < 0 for x in x0):\n",
    "        print('non basic solution')\n",
    "        i1 = np.random.randint(0, n)\n",
    "        i2 = np.random.randint(0, n)\n",
    "        A_new = switch_matrix_columns(A, i1, i2)\n",
    "        return simplex_iteracion(c, A_new, b)\n",
    "\n",
    "    z0 = (c_b.T)@(A_b_inv@b)\n",
    "\n",
    "    #variables duales y costos reducidos\n",
    "    pi = c_b.T@A_b_inv\n",
    "    c_red = pi@A_n - c_n.T\n",
    "\n",
    "    return {\n",
    "        \"x\": x0,\n",
    "        \"z\": z0,\n",
    "        \"costos_reducidos\": c_red,\n",
    "        \"Y\": A_b_inv@A_n,\n",
    "        \"B_inv\": A_b_inv\n",
    "    }"
   ]
  },
  {
   "cell_type": "code",
   "execution_count": 224,
   "metadata": {},
   "outputs": [
    {
     "name": "stdout",
     "output_type": "stream",
     "text": [
      "non basic solution\n",
      "non basic solution\n",
      "singular matrix\n",
      "x: [[18.]\n",
      " [ 4.]\n",
      " [ 6.]]\n",
      "z: [-74.]\n",
      "costos_reducidos: [ -6. -14.]\n",
      "Y: [[2. 3.]\n",
      " [0. 1.]\n",
      " [1. 0.]]\n",
      "B_inv: [[1. 0. 0.]\n",
      " [0. 1. 0.]\n",
      " [0. 0. 1.]]\n"
     ]
    }
   ],
   "source": [
    "def metodo_simplex_revisado(c: np.ndarray, A: np.ndarray, b:np.ndarray):\n",
    "    m, _ = A.shape\n",
    "    iter_inicial = simplex_iteracion(c, A, b)\n",
    "    c_reducidos = iter_inicial[\"costos_reducidos\"]\n",
    "    Y = iter_inicial[\"Y\"]\n",
    "    B_inv = iter_inicial[\"B_inv\"]\n",
    "\n",
    "    if all(x <= 0 for x in c_reducidos):\n",
    "        return iter_inicial\n",
    "    \n",
    "    idx_no_basica = np.argmax(c_reducidos)\n",
    "    cocientes = np.divide(B_inv@b, np.vstack(Y[:, idx_no_basica]))\n",
    "    idx_basica = np.argmin(np.abs(cocientes))\n",
    "    i1, i2 = idx_basica, idx_no_basica + m\n",
    "    \n",
    "    A_new = A.copy()\n",
    "    A_new[:, [i1, i2]] = A_new[:, [i2, i1]]\n",
    "   \n",
    "    c_new = c.copy()\n",
    "    c_new[0, i1], c_new[0, i2] = c[0, i2], c[0, i1]\n",
    "\n",
    "    return metodo_simplex_revisado(c_new, A_new, b)\n",
    "\n",
    "    \n",
    "\n",
    "\n",
    "# A = np.array([[1,0,0,1,0],[0,1,0,0,1],[0,0,1,3,2]])\n",
    "# c = np.array([[0,0,0,-3,-5]])\n",
    "# b = np.vstack([4, 6, 18])\n",
    "A = np.array([[3, 2, 1, 0, 0], [1, 0, 0, 1, 0], [0, 1, 0, 0, 1]])\n",
    "c = np.array([[-3,-5,0,0,0]])\n",
    "b = np.vstack([18, 4, 6])\n",
    "result = metodo_simplex_revisado(c,A,b)\n",
    "\n",
    "for key, val in result.items():\n",
    "    print(f'{key}: {val}')"
   ]
  },
  {
   "cell_type": "code",
   "execution_count": 55,
   "metadata": {},
   "outputs": [],
   "source": [
    "c = [-3, -5]\n",
    "A_ub = np.array([[3, 2]])\n",
    "bounds = [(0, 4), (4,6)]\n",
    "\n",
    "rows1=A_ub.shape[0]\n",
    "rows2 = len(bounds)\n",
    "rows3 = len(bounds)\n",
    "\n",
    "rows_total = rows1+rows2+rows3\n",
    "\n",
    "res = np.zeros(shape=(rows_total,))"
   ]
  },
  {
   "cell_type": "code",
   "execution_count": 34,
   "metadata": {},
   "outputs": [
    {
     "data": {
      "text/plain": [
       "array([0, 0, 0])"
      ]
     },
     "execution_count": 34,
     "metadata": {},
     "output_type": "execute_result"
    }
   ],
   "source": [
    "a = np.identity(3)\n",
    "b = np.vstack([1,2,3])\n",
    "\n",
    "c = np.array([[0,0,0,-3,-5]])\n",
    "c.copy()[0, 0:3]"
   ]
  }
 ],
 "metadata": {
  "kernelspec": {
   "display_name": "Python 3",
   "language": "python",
   "name": "python3"
  },
  "language_info": {
   "codemirror_mode": {
    "name": "ipython",
    "version": 3
   },
   "file_extension": ".py",
   "mimetype": "text/x-python",
   "name": "python",
   "nbconvert_exporter": "python",
   "pygments_lexer": "ipython3",
   "version": "3.11.9"
  }
 },
 "nbformat": 4,
 "nbformat_minor": 2
}
