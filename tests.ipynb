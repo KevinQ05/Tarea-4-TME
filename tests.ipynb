{
 "cells": [
  {
   "cell_type": "code",
   "execution_count": 1,
   "metadata": {},
   "outputs": [
    {
     "ename": "ValueError",
     "evalue": "not enough values to unpack (expected 2, got 1)",
     "output_type": "error",
     "traceback": [
      "\u001b[1;31m---------------------------------------------------------------------------\u001b[0m",
      "\u001b[1;31mValueError\u001b[0m                                Traceback (most recent call last)",
      "Cell \u001b[1;32mIn[1], line 9\u001b[0m\n\u001b[0;32m      6\u001b[0m b_eq \u001b[38;5;241m=\u001b[39m np\u001b[38;5;241m.\u001b[39marray(\u001b[38;5;241m475\u001b[39m)\n\u001b[0;32m      8\u001b[0m bounds \u001b[38;5;241m=\u001b[39m [(\u001b[38;5;241m0\u001b[39m,\u001b[38;5;241m160\u001b[39m), (\u001b[38;5;241m0\u001b[39m,\u001b[38;5;241m300\u001b[39m), (\u001b[38;5;241m50\u001b[39m,\u001b[38;5;241m150\u001b[39m)]\n\u001b[1;32m----> 9\u001b[0m res \u001b[38;5;241m=\u001b[39m \u001b[43mmetodo_simplex_talegon\u001b[49m\u001b[43m(\u001b[49m\u001b[43mc\u001b[49m\u001b[43m,\u001b[49m\u001b[43m \u001b[49m\u001b[43mA_eq\u001b[49m\u001b[43m,\u001b[49m\u001b[43m \u001b[49m\u001b[43mb_eq\u001b[49m\u001b[43m,\u001b[49m\u001b[43m \u001b[49m\u001b[43mbounds\u001b[49m\u001b[43m)\u001b[49m\n\u001b[0;32m     10\u001b[0m res\u001b[38;5;241m.\u001b[39mpretty_print()\n",
      "File \u001b[1;32mc:\\Users\\kevin\\Documents\\Tarea 4 TME\\simplex.py:252\u001b[0m, in \u001b[0;36mmetodo_simplex_talegon\u001b[1;34m(c, A_eq, b_eq, A_ub, b_ub, bounds, verbose)\u001b[0m\n\u001b[0;32m    250\u001b[0m \u001b[38;5;28;01mdef\u001b[39;00m \u001b[38;5;21mmetodo_simplex_talegon\u001b[39m(c: np\u001b[38;5;241m.\u001b[39mndarray, A_eq: np\u001b[38;5;241m.\u001b[39mndarray, b_eq: np\u001b[38;5;241m.\u001b[39mndarray, A_ub\u001b[38;5;241m=\u001b[39m\u001b[38;5;28;01mNone\u001b[39;00m, b_ub\u001b[38;5;241m=\u001b[39m\u001b[38;5;28;01mNone\u001b[39;00m, bounds\u001b[38;5;241m=\u001b[39m\u001b[38;5;28mlist\u001b[39m[\u001b[38;5;28mtuple\u001b[39m], verbose: \u001b[38;5;28mbool\u001b[39m \u001b[38;5;241m=\u001b[39m \u001b[38;5;28;01mFalse\u001b[39;00m) \u001b[38;5;241m-\u001b[39m\u001b[38;5;241m>\u001b[39m IterationResult:\n\u001b[0;32m    251\u001b[0m     \u001b[38;5;66;03m# Se encarga de pasar de una forma amigable al usuario a la forma estándar\u001b[39;00m\n\u001b[1;32m--> 252\u001b[0m     standard_form \u001b[38;5;241m=\u001b[39m \u001b[43mbuild_standard_matrices\u001b[49m\u001b[43m(\u001b[49m\n\u001b[0;32m    253\u001b[0m \u001b[43m        \u001b[49m\u001b[43mc\u001b[49m\u001b[38;5;241;43m=\u001b[39;49m\u001b[43mc\u001b[49m\u001b[43m,\u001b[49m\u001b[43m \u001b[49m\u001b[43mA_eq\u001b[49m\u001b[38;5;241;43m=\u001b[39;49m\u001b[43mA_eq\u001b[49m\u001b[43m,\u001b[49m\u001b[43m \u001b[49m\u001b[43mb_eq\u001b[49m\u001b[38;5;241;43m=\u001b[39;49m\u001b[43mb_eq\u001b[49m\u001b[43m,\u001b[49m\u001b[43m \u001b[49m\u001b[43mA_ub\u001b[49m\u001b[38;5;241;43m=\u001b[39;49m\u001b[43mA_ub\u001b[49m\u001b[43m,\u001b[49m\u001b[43m \u001b[49m\u001b[43mb_ub\u001b[49m\u001b[38;5;241;43m=\u001b[39;49m\u001b[43mb_ub\u001b[49m\u001b[43m,\u001b[49m\u001b[43m \u001b[49m\u001b[43mbounds\u001b[49m\u001b[38;5;241;43m=\u001b[39;49m\u001b[43mbounds\u001b[49m\u001b[43m)\u001b[49m\n\u001b[0;32m    254\u001b[0m     c_std \u001b[38;5;241m=\u001b[39m standard_form[\u001b[38;5;124m'\u001b[39m\u001b[38;5;124mc\u001b[39m\u001b[38;5;124m'\u001b[39m]\n\u001b[0;32m    255\u001b[0m     A_std \u001b[38;5;241m=\u001b[39m standard_form[\u001b[38;5;124m'\u001b[39m\u001b[38;5;124mA\u001b[39m\u001b[38;5;124m'\u001b[39m]\n",
      "File \u001b[1;32mc:\\Users\\kevin\\Documents\\Tarea 4 TME\\simplex.py:193\u001b[0m, in \u001b[0;36mbuild_standard_matrices\u001b[1;34m(c, A_eq, b_eq, A_ub, b_ub, bounds)\u001b[0m\n\u001b[0;32m    190\u001b[0m     ineq_rows, ineq_columns \u001b[38;5;241m=\u001b[39m (\u001b[38;5;241m0\u001b[39m, \u001b[38;5;241m0\u001b[39m)\n\u001b[0;32m    192\u001b[0m \u001b[38;5;66;03m# Separar limites en inferiores y superiores siempre que sean mayores a cero\u001b[39;00m\n\u001b[1;32m--> 193\u001b[0m lower_bounds, upper_bounds \u001b[38;5;241m=\u001b[39m \u001b[38;5;28mzip\u001b[39m(\u001b[38;5;241m*\u001b[39mbounds)\n\u001b[0;32m    194\u001b[0m lower_bounds \u001b[38;5;241m=\u001b[39m \u001b[38;5;28mlist\u001b[39m(\u001b[38;5;28mfilter\u001b[39m(\u001b[38;5;28;01mlambda\u001b[39;00m x: x \u001b[38;5;241m>\u001b[39m \u001b[38;5;241m0\u001b[39m, lower_bounds))\n\u001b[0;32m    195\u001b[0m upper_bounds \u001b[38;5;241m=\u001b[39m \u001b[38;5;28mlist\u001b[39m(\u001b[38;5;28mfilter\u001b[39m(\u001b[38;5;28;01mlambda\u001b[39;00m x: x \u001b[38;5;241m>\u001b[39m \u001b[38;5;241m0\u001b[39m, upper_bounds))\n",
      "\u001b[1;31mValueError\u001b[0m: not enough values to unpack (expected 2, got 1)"
     ]
    }
   ],
   "source": [
    "import numpy as np\n",
    "from simplex import metodo_simplex_talegon\n",
    "\n",
    "c = np.array([50,60,75])\n",
    "A_eq = np.array([[1, 1, 1]])\n",
    "b_eq = np.array(475)\n",
    "\n",
    "bounds = [(0,160), (0,300), (50,150)]\n",
    "res = metodo_simplex_talegon(c, A_eq, b_eq, bounds=bounds)\n",
    "res.pretty_print()\n"
   ]
  }
 ],
 "metadata": {
  "kernelspec": {
   "display_name": "Python 3",
   "language": "python",
   "name": "python3"
  },
  "language_info": {
   "codemirror_mode": {
    "name": "ipython",
    "version": 3
   },
   "file_extension": ".py",
   "mimetype": "text/x-python",
   "name": "python",
   "nbconvert_exporter": "python",
   "pygments_lexer": "ipython3",
   "version": "3.11.9"
  }
 },
 "nbformat": 4,
 "nbformat_minor": 2
}
