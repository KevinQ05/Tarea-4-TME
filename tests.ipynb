{
 "cells": [
  {
   "cell_type": "code",
   "execution_count": 72,
   "metadata": {},
   "outputs": [
    {
     "ename": "AttributeError",
     "evalue": "'IterationResult' object has no attribute 'c'",
     "output_type": "error",
     "traceback": [
      "\u001b[1;31m---------------------------------------------------------------------------\u001b[0m",
      "\u001b[1;31mAttributeError\u001b[0m                            Traceback (most recent call last)",
      "Cell \u001b[1;32mIn[72], line 11\u001b[0m\n\u001b[0;32m      8\u001b[0m bounds \u001b[38;5;241m=\u001b[39m [(\u001b[38;5;241m0\u001b[39m,\u001b[38;5;241m160\u001b[39m), (\u001b[38;5;241m0\u001b[39m,\u001b[38;5;241m300\u001b[39m), (\u001b[38;5;241m50\u001b[39m,\u001b[38;5;241m150\u001b[39m)]\n\u001b[0;32m      9\u001b[0m res \u001b[38;5;241m=\u001b[39m metodo_simplex_talegon(c, A_eq, b_eq, bounds)\n\u001b[1;32m---> 11\u001b[0m \u001b[38;5;28mprint\u001b[39m(res\u001b[38;5;241m.\u001b[39mx, \u001b[43mres\u001b[49m\u001b[38;5;241;43m.\u001b[39;49m\u001b[43mc\u001b[49m)\n",
      "\u001b[1;31mAttributeError\u001b[0m: 'IterationResult' object has no attribute 'c'"
     ]
    }
   ],
   "source": [
    "import numpy as np\n",
    "from simplex import metodo_simplex_talegon\n",
    "\n",
    "c = np.array([50,60,75])\n",
    "A_eq = np.array([[1, 1, 1]])\n",
    "b_eq = np.array(475)\n",
    "\n",
    "bounds = [(0,160), (0,300), (50,150)]\n",
    "res = metodo_simplex_talegon(c, A_eq, b_eq, bounds)\n",
    "\n",
    "print(res.x, res.c)"
   ]
  }
 ],
 "metadata": {
  "kernelspec": {
   "display_name": "Python 3",
   "language": "python",
   "name": "python3"
  },
  "language_info": {
   "codemirror_mode": {
    "name": "ipython",
    "version": 3
   },
   "file_extension": ".py",
   "mimetype": "text/x-python",
   "name": "python",
   "nbconvert_exporter": "python",
   "pygments_lexer": "ipython3",
   "version": "3.11.9"
  }
 },
 "nbformat": 4,
 "nbformat_minor": 2
}
