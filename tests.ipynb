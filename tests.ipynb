{
 "cells": [
  {
   "cell_type": "code",
   "execution_count": 6,
   "metadata": {},
   "outputs": [
    {
     "name": "stdout",
     "output_type": "stream",
     "text": [
      "error: solucion no basica\n",
      "error: solucion no basica\n",
      "error: solucion no basica\n",
      "error: solucion no basica\n",
      "error: solucion no basica\n",
      "error: solucion no basica\n",
      "error: matriz singular\n",
      "error: matriz singular\n",
      "error: matriz singular\n",
      "error: solucion no basica\n",
      "error: solucion no basica\n",
      "error: matriz singular\n",
      "error: matriz singular\n",
      "error: solucion no basica\n",
      "error: solucion no basica\n",
      "error: matriz singular\n",
      "error: solucion no basica\n",
      "error: solucion no basica\n",
      "error: matriz singular\n",
      "error: solucion no basica\n",
      "error: solucion no basica\n",
      "error: solucion no basica\n",
      "error: solucion no basica\n",
      "error: solucion no basica\n",
      "error: solucion no basica\n",
      "error: solucion no basica\n",
      "error: solucion no basica\n",
      "error: solucion no basica\n",
      "error: solucion no basica\n",
      "error: solucion no basica\n",
      "error: solucion no basica\n",
      "error: solucion no basica\n",
      "error: solucion no basica\n",
      "error: solucion no basica\n",
      "error: solucion no basica\n",
      "error: solucion no basica\n",
      "error: solucion no basica\n",
      "error: solucion no basica\n",
      "Funcion objetivo: z = 27650.0 \n",
      "x0 = [160.] \n",
      "x1 = [265.] \n",
      "x2 = [50.] \n",
      "x3 = [0.] \n",
      "x4 = [35.] \n",
      "x5 = [100.] \n",
      "x6 = [0.] \n",
      "Costos reducidos: [[-15. -10.]]\n"
     ]
    }
   ],
   "source": [
    "import numpy as np\n",
    "from simplex import metodo_simplex_talegon\n",
    "\n",
    "c = np.array([50,60,75])\n",
    "A_eq = np.array([[1, 1, 1]])\n",
    "b_eq = np.array(475)\n",
    "\n",
    "bounds = [(0,160), (0,300), (50,150)]\n",
    "res = metodo_simplex_talegon(c, A_eq, b_eq, bounds=bounds, verbose=True)\n",
    "res.pretty_print()\n"
   ]
  }
 ],
 "metadata": {
  "kernelspec": {
   "display_name": "Python 3",
   "language": "python",
   "name": "python3"
  },
  "language_info": {
   "codemirror_mode": {
    "name": "ipython",
    "version": 3
   },
   "file_extension": ".py",
   "mimetype": "text/x-python",
   "name": "python",
   "nbconvert_exporter": "python",
   "pygments_lexer": "ipython3",
   "version": "3.11.9"
  }
 },
 "nbformat": 4,
 "nbformat_minor": 2
}
