{
 "cells": [
  {
   "cell_type": "code",
   "execution_count": 4,
   "metadata": {},
   "outputs": [
    {
     "name": "stdout",
     "output_type": "stream",
     "text": [
      "[150.], [75.], 2\n",
      "[135.], [0.], 4\n",
      "[160.], [50.], 0\n",
      "[100.], [0.], 6\n",
      "[165.], [60.], 1\n",
      "\n",
      "[150.], [75.], 2\n",
      "[135.], [0.], 3\n",
      "[25.], [50.], 0\n",
      "[300.], [60.], 1\n",
      "[100.], [0.], 6\n",
      "\n",
      "[300.], [60.], 1\n",
      "[50.], [75.], 2\n",
      "[125.], [50.], 0\n",
      "[100.], [0.], 5\n",
      "[35.], [0.], 3\n",
      "\n",
      "[50.], [75.], 2\n",
      "[160.], [50.], 0\n",
      "[265.], [60.], 1\n",
      "[35.], [0.], 4\n",
      "[100.], [0.], 5\n",
      "\n",
      "IterationResult(z=array([[27650.]]), x=array([[ 50.],\n",
      "       [160.],\n",
      "       [265.],\n",
      "       [ 35.],\n",
      "       [100.],\n",
      "       [  0.],\n",
      "       [  0.]]), pi=array([[ 60., -10.,   0.,   0.,  15.]]), c_reducidos=array([[-15., -10.]]), b_barra=array([[ 50.],\n",
      "       [160.],\n",
      "       [265.],\n",
      "       [ 35.],\n",
      "       [100.]]), Y=array([[-1.,  0.],\n",
      "       [ 0.,  1.],\n",
      "       [ 1., -1.],\n",
      "       [-1.,  1.],\n",
      "       [ 1.,  0.]]), order=array([2, 0, 1, 4, 5, 6, 3]))\n"
     ]
    }
   ],
   "source": [
    "import numpy as np\n",
    "from simplex import metodo_simplex_talegon\n",
    "\n",
    "c = np.array([50,60,75])\n",
    "A_eq = np.array([[1, 1, 1]])\n",
    "b_eq = np.array(475)\n",
    "\n",
    "bounds = [(0,160), (0,300), (50,150)]\n",
    "res = metodo_simplex_talegon(c, A_eq, b_eq, bounds)\n",
    "res.pretty_print()\n"
   ]
  }
 ],
 "metadata": {
  "kernelspec": {
   "display_name": "Python 3",
   "language": "python",
   "name": "python3"
  },
  "language_info": {
   "codemirror_mode": {
    "name": "ipython",
    "version": 3
   },
   "file_extension": ".py",
   "mimetype": "text/x-python",
   "name": "python",
   "nbconvert_exporter": "python",
   "pygments_lexer": "ipython3",
   "version": "3.11.9"
  }
 },
 "nbformat": 4,
 "nbformat_minor": 2
}
