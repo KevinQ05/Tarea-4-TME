{
 "cells": [
  {
   "cell_type": "code",
   "execution_count": 7,
   "metadata": {},
   "outputs": [],
   "source": [
    "import numpy as np\n",
    "np.seterr(divide=\"ignore\")\n",
    "\n",
    "def switch_array_columns(array:np.ndarray, i1: int, i2: int) -> np.ndarray:\n",
    "    new_array = array.copy()\n",
    "    match new_array.shape:\n",
    "        case (_,):\n",
    "            new_array[[i1, i2]] = new_array[[i2, i1]]\n",
    "\n",
    "        case (_, _):\n",
    "            new_array[:,[i1, i2]] = new_array[:, [i2, i1]]\n",
    "\n",
    "        case _:\n",
    "            raise(ValueError)\n",
    "            \n",
    "    return new_array\n",
    "\n",
    "def iteracion_simplex(c: np.ndarray, A: np.ndarray, b: np.ndarray, order: np.ndarray | None = None) -> dict:\n",
    "    if len(c.shape) == 1:\n",
    "        raise ValueError(\"C debe ser un vector columna\")\n",
    "    if len(b.shape) == 1:\n",
    "        raise ValueError(\"b debe ser un vector columna\")\n",
    "    \n",
    "    m, n = A.shape\n",
    "    \n",
    "    # Separar matriz A en variables básicas y no básicas\n",
    "    B = A.copy()[:,0:m]\n",
    "    N = A.copy()[:, m:n]\n",
    "    \n",
    "    #Costos c básicos y no básicos\n",
    "    c_B = c.copy()[0:m, 0]\n",
    "    c_N = c.copy()[m:n, 0]\n",
    "\n",
    "    try:\n",
    "        B_inv = np.linalg.inv(B)\n",
    "    except Exception as _:\n",
    "        print('singular matrix')\n",
    "        i1 = np.random.randint(0, n)\n",
    "        i2 = np.random.randint(0, n)\n",
    "        A_new = switch_array_columns(A, i1, i2)\n",
    "        return iteracion_simplex(c, A_new, b)\n",
    "    \n",
    "    # solución inicial z0 = z(x0)\n",
    "    x0 = B_inv@b\n",
    "    z0 = (c_B.T)@(B_inv@b)\n",
    "\n",
    "    if any(x < 0 for x in x0):\n",
    "        print('non basic solution')\n",
    "        i1 = np.random.randint(0, n)\n",
    "        i2 = np.random.randint(0, n)\n",
    "        A_new = switch_array_columns(A, i1, i2)\n",
    "        return iteracion_simplex(c, A_new, b)\n",
    "\n",
    "    pi = c_B.T@B_inv\n",
    "    costos_reducidos = pi@N - c_N.T\n",
    "    b_barra = B_inv@b\n",
    "    Y = B_inv@N\n",
    "\n",
    "    return {\n",
    "        \"z\": z0,\n",
    "        \"x\": x0,\n",
    "        \"pi\": pi,\n",
    "        \"c_reducidos\": costos_reducidos,\n",
    "        \"b_barra\": b_barra,\n",
    "        \"Y\": Y,\n",
    "        \"order\": order if order is not None else np.arange(n)\n",
    "    }\n",
    "\n"
   ]
  },
  {
   "cell_type": "code",
   "execution_count": 8,
   "metadata": {},
   "outputs": [],
   "source": [
    "def metodo_simplex_revisado(c: np.ndarray, A: np.ndarray, b: np.ndarray):\n",
    "    # TODO implementar el orden para distinguir las variables y ver que putas cambia el resultado con distintos args\n",
    "    \n",
    "    m, n = A.shape\n",
    "    inicial = iteracion_simplex(c, A, b)\n",
    "    c_reducidos = inicial['c_reducidos']\n",
    "\n",
    "    if all(x <= 0 for x in c_reducidos):\n",
    "        return inicial\n",
    "    indice_no_basicas = np.argmax(c_reducidos)\n",
    "    \n",
    "    Y = inicial['Y']\n",
    "    b_barra = inicial['b_barra']\n",
    "    cocientes = np.divide(b_barra, np.vstack(Y[:, indice_no_basicas]))\n",
    "\n",
    "    indice_basicas = np.where(cocientes > 0, cocientes, np.inf).argmin()\n",
    "\n",
    "    i1, i2 = indice_basicas, indice_no_basicas + m\n",
    "\n",
    "    A_new = switch_array_columns(A, i1, i2)\n",
    "    c_new = switch_array_columns(c.T, i1, i2).T\n",
    "    # order_new = switch_array_columns(inicial['order'])\n",
    "\n",
    "    return metodo_simplex_revisado(c_new, A_new, b)"
   ]
  },
  {
   "cell_type": "markdown",
   "metadata": {},
   "source": [
    "### Demo"
   ]
  },
  {
   "cell_type": "code",
   "execution_count": 9,
   "metadata": {},
   "outputs": [
    {
     "data": {
      "text/plain": [
       "{'z': array([-36.]),\n",
       " 'x': array([[2.],\n",
       "        [6.],\n",
       "        [2.]]),\n",
       " 'pi': array([ 0., -3., -1.]),\n",
       " 'c_reducidos': array([-1., -3.]),\n",
       " 'b_barra': array([[2.],\n",
       "        [6.],\n",
       "        [2.]]),\n",
       " 'Y': array([[-0.33333333,  0.66666667],\n",
       "        [ 0.        ,  1.        ],\n",
       "        [ 0.33333333, -0.66666667]]),\n",
       " 'order': array([0, 1, 2, 3, 4])}"
      ]
     },
     "execution_count": 9,
     "metadata": {},
     "output_type": "execute_result"
    }
   ],
   "source": [
    "A = np.array([[1,0,0,1,0],[0,1,0,0,1],[0,0,1,3,2]])\n",
    "c = np.vstack([0,0,0,-3,-5])\n",
    "b = np.vstack([4, 6, 18])\n",
    "\n",
    "metodo_simplex_revisado(c,A,b)"
   ]
  },
  {
   "cell_type": "markdown",
   "metadata": {},
   "source": [
    "Con otro orden se comporta raro"
   ]
  },
  {
   "cell_type": "code",
   "execution_count": 30,
   "metadata": {},
   "outputs": [
    {
     "name": "stdout",
     "output_type": "stream",
     "text": [
      "non basic solution\n"
     ]
    },
    {
     "data": {
      "text/plain": [
       "{'z': array([-42.]),\n",
       " 'x': array([[4.],\n",
       "        [6.],\n",
       "        [6.]]),\n",
       " 'pi': array([ 0., -3., -5.]),\n",
       " 'c_reducidos': array([-3., -5.]),\n",
       " 'b_barra': array([[4.],\n",
       "        [6.],\n",
       "        [6.]]),\n",
       " 'Y': array([[ 1.,  0.],\n",
       "        [ 0.,  1.],\n",
       "        [ 3., -2.]]),\n",
       " 'order': array([0, 1, 2, 3, 4])}"
      ]
     },
     "execution_count": 30,
     "metadata": {},
     "output_type": "execute_result"
    }
   ],
   "source": [
    "A = np.array([[3, 2, 1, 0, 0], [1, 0, 0, 1, 0], [0, 1, 0, 0, 1]])\n",
    "c = np.vstack([-3,-5,0,0,0])\n",
    "b = np.vstack([18, 4, 6])\n",
    "metodo_simplex_revisado(c,A,b)\n"
   ]
  }
 ],
 "metadata": {
  "kernelspec": {
   "display_name": "Python 3",
   "language": "python",
   "name": "python3"
  },
  "language_info": {
   "codemirror_mode": {
    "name": "ipython",
    "version": 3
   },
   "file_extension": ".py",
   "mimetype": "text/x-python",
   "name": "python",
   "nbconvert_exporter": "python",
   "pygments_lexer": "ipython3",
   "version": "3.11.9"
  }
 },
 "nbformat": 4,
 "nbformat_minor": 2
}
