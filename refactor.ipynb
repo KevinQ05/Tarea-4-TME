{
 "cells": [
  {
   "cell_type": "code",
   "execution_count": 51,
   "metadata": {},
   "outputs": [],
   "source": [
    "import numpy as np\n",
    "np.seterr(divide=\"ignore\")\n",
    "\n",
    "def switch_array_columns(array:np.ndarray, i1: int, i2: int) -> np.ndarray:\n",
    "    new_array = array.copy()\n",
    "    match new_array.shape:\n",
    "        case (_,):\n",
    "            new_array[[i1, i2]] = new_array[[i2, i1]]\n",
    "\n",
    "        case (_, _):\n",
    "            new_array[:,[i1, i2]] = new_array[:, [i2, i1]]\n",
    "\n",
    "        case _:\n",
    "            raise(ValueError)\n",
    "            \n",
    "    return new_array\n",
    "\n",
    "def iteracion_simplex(c: np.ndarray, A: np.ndarray, b: np.ndarray, order: np.ndarray | None = None) -> dict:\n",
    "    if len(c.shape) == 1:\n",
    "        raise ValueError(\"C debe ser un vector columna\")\n",
    "    if len(b.shape) == 1:\n",
    "        raise ValueError(\"b debe ser un vector columna\")\n",
    "    \n",
    "    m, n = A.shape\n",
    "    if order is None:\n",
    "        print('sube')\n",
    "        order = np.arange(0, m+n)\n",
    "    \n",
    "    # Separar matriz A en variables básicas y no básicas\n",
    "    B = A.copy()[:,0:m]\n",
    "    N = A.copy()[:, m:n]\n",
    "    \n",
    "    #Costos c básicos y no básicos\n",
    "    c_B = c.copy()[0:m, 0]\n",
    "    c_N = c.copy()[m:n, 0]\n",
    "\n",
    "    try:\n",
    "        B_inv = np.linalg.inv(B)\n",
    "    except Exception as _:\n",
    "        print('singular matrix')\n",
    "        i1 = np.random.randint(0, n)\n",
    "        i2 = np.random.randint(0, n)\n",
    "        A_new = switch_array_columns(A, i1, i2)\n",
    "        new_order = switch_array_columns(order, i1, i2)\n",
    "        return iteracion_simplex(c, A_new, b, new_order)\n",
    "    \n",
    "    # solución inicial z0 = z(x0)\n",
    "    x0 = B_inv@b\n",
    "    z0 = (c_B.T)@(B_inv@b)\n",
    "\n",
    "    if any(x < 0 for x in x0):\n",
    "        print('non basic solution')\n",
    "        i1 = np.random.randint(0, n)\n",
    "        i2 = np.random.randint(0, n)\n",
    "        A_new = switch_array_columns(A, i1, i2)\n",
    "        new_order = switch_array_columns(order, i1, i2)\n",
    "        return iteracion_simplex(c, A_new, b, new_order)\n",
    "\n",
    "    pi = c_B.T@B_inv\n",
    "    costos_reducidos = pi@N - c_N.T\n",
    "    b_barra = B_inv@b\n",
    "    Y = B_inv@N\n",
    "\n",
    "    return {\n",
    "        \"z\": z0,\n",
    "        \"x\": x0,\n",
    "        \"pi\": pi,\n",
    "        \"c_reducidos\": costos_reducidos,\n",
    "        \"b_barra\": b_barra,\n",
    "        \"Y\": Y,\n",
    "        \"order\": order\n",
    "    }\n",
    "\n"
   ]
  },
  {
   "cell_type": "code",
   "execution_count": 52,
   "metadata": {},
   "outputs": [],
   "source": [
    "def metodo_simplex_revisado(c: np.ndarray, A: np.ndarray, b: np.ndarray, order: np.ndarray | None = None):\n",
    "    # TODO implementar el orden para distinguir las variables y ver que putas cambia el resultado con distintos args\n",
    "    \n",
    "    m, n = A.shape\n",
    "    inicial = iteracion_simplex(c, A, b)\n",
    "    c_reducidos = inicial['c_reducidos']\n",
    "\n",
    "    if all(x <= 0 for x in c_reducidos):\n",
    "        return inicial\n",
    "    indice_no_basicas = np.argmax(c_reducidos)\n",
    "    \n",
    "    Y = inicial['Y']\n",
    "    b_barra = inicial['b_barra']\n",
    "    cocientes = np.divide(b_barra, np.vstack(Y[:, indice_no_basicas]))\n",
    "\n",
    "    indice_basicas = np.where(cocientes > 0, cocientes, np.inf).argmin()\n",
    "\n",
    "    i1, i2 = indice_basicas, indice_no_basicas + m\n",
    "\n",
    "    A_new = switch_array_columns(A, i1, i2)\n",
    "    c_new = switch_array_columns(c.T, i1, i2).T\n",
    "    order_new = switch_array_columns(inicial['order'], i1, i2)\n",
    "\n",
    "    return metodo_simplex_revisado(c_new, A_new, b, order_new)"
   ]
  },
  {
   "cell_type": "markdown",
   "metadata": {},
   "source": [
    "### Demo"
   ]
  },
  {
   "cell_type": "code",
   "execution_count": 53,
   "metadata": {},
   "outputs": [
    {
     "name": "stdout",
     "output_type": "stream",
     "text": [
      "sube\n",
      "sube\n",
      "sube\n"
     ]
    },
    {
     "data": {
      "text/plain": [
       "{'z': array([-36.]),\n",
       " 'x': array([[2.],\n",
       "        [6.],\n",
       "        [2.]]),\n",
       " 'pi': array([ 0., -3., -1.]),\n",
       " 'c_reducidos': array([-1., -3.]),\n",
       " 'b_barra': array([[2.],\n",
       "        [6.],\n",
       "        [2.]]),\n",
       " 'Y': array([[-0.33333333,  0.66666667],\n",
       "        [ 0.        ,  1.        ],\n",
       "        [ 0.33333333, -0.66666667]]),\n",
       " 'order': array([0, 1, 2, 3, 4, 5, 6, 7])}"
      ]
     },
     "execution_count": 53,
     "metadata": {},
     "output_type": "execute_result"
    }
   ],
   "source": [
    "A = np.array([\n",
    "    [1,0,0,1,0],\n",
    "    [0,1,0,0,1],\n",
    "    [0,0,1,3,2]\n",
    "])\n",
    "c = np.vstack([0,0,0,-3,-5])\n",
    "b = np.vstack([4, 6, 18])\n",
    "\n",
    "metodo_simplex_revisado(c,A,b)"
   ]
  },
  {
   "cell_type": "markdown",
   "metadata": {},
   "source": [
    "Con otro orden se comporta raro"
   ]
  },
  {
   "cell_type": "code",
   "execution_count": 63,
   "metadata": {},
   "outputs": [
    {
     "name": "stdout",
     "output_type": "stream",
     "text": [
      "sube\n",
      "non basic solution\n",
      "non basic solution\n",
      "singular matrix\n"
     ]
    },
    {
     "data": {
      "text/plain": [
       "{'z': array([-38.]),\n",
       " 'x': array([[6.],\n",
       "        [4.],\n",
       "        [6.]]),\n",
       " 'pi': array([ 0., -5., -3.]),\n",
       " 'c_reducidos': array([-3., -5.]),\n",
       " 'b_barra': array([[6.],\n",
       "        [4.],\n",
       "        [6.]]),\n",
       " 'Y': array([[ 1.,  0.],\n",
       "        [ 0.,  1.],\n",
       "        [ 2., -3.]]),\n",
       " 'order': array([4, 0, 2, 1, 3, 5, 6, 7])}"
      ]
     },
     "execution_count": 63,
     "metadata": {},
     "output_type": "execute_result"
    }
   ],
   "source": [
    "A = np.array([[3, 2, 1, 0, 0], [1, 0, 0, 1, 0], [0, 1, 0, 0, 1]])\n",
    "c = np.vstack([-3,-5,0,0,0])\n",
    "b = np.vstack([18, 4, 6])\n",
    "metodo_simplex_revisado(c,A,b)\n"
   ]
  },
  {
   "cell_type": "markdown",
   "metadata": {},
   "source": [
    "# Ejercicio de la Tarea"
   ]
  },
  {
   "cell_type": "markdown",
   "metadata": {},
   "source": [
    "Demanda:\n",
    "$$ P_1 + P_2 + P_3 = 475 $$\n",
    "\n",
    "Límites superiores de operación:\n",
    "$$ P_1 + s_1 = 175 $$\n",
    "$$ P_2 + s_2 = 300 $$\n",
    "$$ P_3 + s_3 = 150 $$\n",
    "\n",
    "Límites inferiores:\n",
    "$$ P_3 - s_4 =50 $$\n",
    "\n",
    "Restricción de las lineas:\n",
    "$$ P_1 + s_5 = 160 $$\n",
    "$$-P_3 + s_6 = -25 $$\n",
    "\n",
    "$$\\begin{bmatrix}\n",
    "    1 & 1 & 1 & 0 & 0 & 0 & 0 & 0 & 0 \\\\\n",
    "    1 & 0 & 0 & 1 & 0 & 0 & 0 & 0 & 0 \\\\ \n",
    "    0 & 1 & 0 & 0 & 1 & 0 & 0 & 0 & 0 \\\\\n",
    "    0 & 0 & 1 & 0 & 0 & 1 & 0 & 0 & 0 \\\\\n",
    "    0 & 0 & 1 & 0 & 0 & 0 &-1 & 0 & 0 \\\\\n",
    "    1 & 0 & 0 & 0 & 0 & 0 & 0 & 1 & 0 \\\\\n",
    "    0 & 0 & 1 & 0 & 0 & 0 & 0 & 0 &-1 \n",
    "\\end{bmatrix}\n",
    " = \\begin{bmatrix}\n",
    "    475 \\\\ 175 \\\\ 300 \\\\ 150 \\\\ 50 \\\\ 160 \\\\ 25\n",
    "\\end{bmatrix}\n",
    "$$\n"
   ]
  },
  {
   "cell_type": "code",
   "execution_count": 55,
   "metadata": {},
   "outputs": [
    {
     "data": {
      "text/plain": [
       "        message: Optimization terminated successfully. (HiGHS Status 7: Optimal)\n",
       "        success: True\n",
       "         status: 0\n",
       "            fun: 27650.0\n",
       "              x: [ 1.600e+02  2.650e+02  5.000e+01]\n",
       "            nit: 0\n",
       "          lower:  residual: [ 1.600e+02  2.650e+02  0.000e+00]\n",
       "                 marginals: [ 0.000e+00  0.000e+00  1.500e+01]\n",
       "          upper:  residual: [ 0.000e+00  3.500e+01  1.000e+02]\n",
       "                 marginals: [-1.000e+01  0.000e+00  0.000e+00]\n",
       "          eqlin:  residual: [ 0.000e+00]\n",
       "                 marginals: [ 6.000e+01]\n",
       "        ineqlin:  residual: []\n",
       "                 marginals: []\n",
       " mip_node_count: 0\n",
       " mip_dual_bound: 0.0\n",
       "        mip_gap: 0.0"
      ]
     },
     "execution_count": 55,
     "metadata": {},
     "output_type": "execute_result"
    }
   ],
   "source": [
    "from scipy.optimize import linprog\n",
    "\n",
    "c = np.array([50,60,75])\n",
    "A_eq = [[1, 1, 1]]\n",
    "b_eq = [475]\n",
    "\n",
    "bounds = [(0,160), (0,300), (50,150)]\n",
    "res = linprog(c=c, A_eq=A_eq, b_eq=b_eq, bounds=bounds)\n",
    "res"
   ]
  },
  {
   "cell_type": "code",
   "execution_count": 73,
   "metadata": {},
   "outputs": [
    {
     "name": "stdout",
     "output_type": "stream",
     "text": [
      "sube\n",
      "non basic solution\n",
      "sube\n"
     ]
    },
    {
     "data": {
      "text/plain": [
       "{'z': array([27650.]),\n",
       " 'x': array([[160.],\n",
       "        [265.],\n",
       "        [ 50.],\n",
       "        [ 15.],\n",
       "        [ 35.],\n",
       "        [100.],\n",
       "        [ 75.]]),\n",
       " 'pi': array([ 60.,   0.,   0.,   0.,  15., -10.,   0.]),\n",
       " 'c_reducidos': array([-10., -15.]),\n",
       " 'b_barra': array([[160.],\n",
       "        [265.],\n",
       "        [ 50.],\n",
       "        [ 15.],\n",
       "        [ 35.],\n",
       "        [100.],\n",
       "        [ 75.]]),\n",
       " 'Y': array([[ 1.,  0.],\n",
       "        [-1.,  1.],\n",
       "        [ 0., -1.],\n",
       "        [-1.,  0.],\n",
       "        [ 1., -1.],\n",
       "        [ 0.,  1.],\n",
       "        [ 0., -1.]]),\n",
       " 'order': array([ 0,  1,  2,  3,  4,  5,  6,  7,  8,  9, 10, 11, 12, 13, 14, 15])}"
      ]
     },
     "execution_count": 73,
     "metadata": {},
     "output_type": "execute_result"
    }
   ],
   "source": [
    "c = np.vstack([50, 60, 75, 0, 0, 0, 0, 0, 0])\n",
    "A = np.array([\n",
    "    [1, 1, 1, 0, 0, 0, 0, 0, 0],\n",
    "    [1, 0, 0, 1, 0, 0, 0, 0, 0],\n",
    "    [0, 1, 0, 0, 1, 0, 0, 0, 0],\n",
    "    [0, 0, 1, 0, 0, 1, 0, 0, 0],\n",
    "    [0, 0, 1, 0, 0, 0,-1, 0, 0],\n",
    "    [1, 0, 0, 0, 0, 0, 0, 1, 0],\n",
    "    [0, 0, -1, 0, 0, 0, 0, 0, 1],\n",
    "])\n",
    "b = np.vstack([475, 175, 300, 150, 50, 160, 25])\n",
    "\n",
    "metodo_simplex_revisado(c, A, b)"
   ]
  }
 ],
 "metadata": {
  "kernelspec": {
   "display_name": "Python 3",
   "language": "python",
   "name": "python3"
  },
  "language_info": {
   "codemirror_mode": {
    "name": "ipython",
    "version": 3
   },
   "file_extension": ".py",
   "mimetype": "text/x-python",
   "name": "python",
   "nbconvert_exporter": "python",
   "pygments_lexer": "ipython3",
   "version": "3.11.9"
  }
 },
 "nbformat": 4,
 "nbformat_minor": 2
}
